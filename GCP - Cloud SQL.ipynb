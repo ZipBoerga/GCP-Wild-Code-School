{
  "nbformat": 4,
  "nbformat_minor": 0,
  "metadata": {
    "colab": {
      "provenance": []
    },
    "kernelspec": {
      "name": "python3",
      "display_name": "Python 3"
    },
    "language_info": {
      "name": "python"
    }
  },
  "cells": [
    {
      "cell_type": "code",
      "source": [
        "! pip install mysql.connector"
      ],
      "metadata": {
        "id": "wCd5NS2HLpIp"
      },
      "execution_count": null,
      "outputs": []
    },
    {
      "cell_type": "code",
      "source": [
        "! curl ipinfo.io/ip"
      ],
      "metadata": {
        "id": "KPvuEJ3BR69s"
      },
      "execution_count": null,
      "outputs": []
    },
    {
      "cell_type": "code",
      "execution_count": null,
      "metadata": {
        "id": "ToBj6yt2K2VQ"
      },
      "outputs": [],
      "source": [
        "import mysql.connector\n",
        "import json"
      ]
    },
    {
      "cell_type": "code",
      "source": [
        "def create_mysql_connection(user: str, password: str, host: str, database: str):\n",
        "    connection_config = {\n",
        "        'user': user,\n",
        "        'password': password,\n",
        "        'host': host,\n",
        "        'database': database,\n",
        "    }\n",
        "\n",
        "    try:\n",
        "        connector = mysql.connector.connect(**connection_config)\n",
        "        return connector\n",
        "    except mysql.connector.Error as err:\n",
        "        print(f\"Error: {err}\")\n",
        "        return None\n",
        "\n",
        "def close_mysql_connection(connector, cursor):\n",
        "    cursor.close()\n",
        "    connector.close()"
      ],
      "metadata": {
        "id": "eAsZL_o5K_BK"
      },
      "execution_count": null,
      "outputs": []
    },
    {
      "cell_type": "code",
      "source": [
        "with open('creds.json', 'r') as file:\n",
        "    creds = json.load(file)\n",
        "\n",
        "connector = create_mysql_connection(**creds)"
      ],
      "metadata": {
        "id": "jEfft8UbLjVt"
      },
      "execution_count": null,
      "outputs": []
    },
    {
      "cell_type": "code",
      "source": [
        "cursor = connector.cursor()"
      ],
      "metadata": {
        "id": "iNSnl-fbVnKN"
      },
      "execution_count": null,
      "outputs": []
    },
    {
      "cell_type": "code",
      "source": [
        "query = f'''\n",
        "CREATE TABLE items (\n",
        "    id INT PRIMARY KEY,\n",
        "    name VARCHAR(255),\n",
        "    description TEXT\n",
        ");\n",
        "'''\n",
        "\n",
        "cursor.execute(query)\n",
        "connector.commit()"
      ],
      "metadata": {
        "id": "XX5mSMy3RN3f"
      },
      "execution_count": null,
      "outputs": []
    },
    {
      "cell_type": "code",
      "source": [
        "query2 = f\"SHOW COLUMNS FROM items;\"\n",
        "\n",
        "cursor.execute(query2)\n",
        "result = cursor.fetchall()\n",
        "for row in result:\n",
        "  print(row)"
      ],
      "metadata": {
        "colab": {
          "base_uri": "https://localhost:8080/"
        },
        "id": "YBv9DAJQTYsY",
        "outputId": "bdd9c3a0-e38e-4f4f-dc2f-ae912d70b26e"
      },
      "execution_count": null,
      "outputs": [
        {
          "output_type": "stream",
          "name": "stdout",
          "text": [
            "('id', b'int', 'NO', bytearray(b'PRI'), None, '')\n",
            "('name', b'varchar(255)', 'YES', bytearray(b''), None, '')\n",
            "('description', b'text', 'YES', bytearray(b''), None, '')\n"
          ]
        }
      ]
    },
    {
      "cell_type": "code",
      "source": [
        "query3 = f'INSERT INTO items (id, name, description) VALUES (%s, %s, %s)'\n",
        "items = [\n",
        "    {'id': 1, 'name': 'book', 'description': 'just a book'},\n",
        "    {'id': 2, 'name': 'water clock', 'description': 'shiny!'},\n",
        "  ]\n",
        "\n",
        "for item in items:\n",
        "    cursor.execute(query3, (item['id'], item['name'], item['description']))\n",
        "\n",
        "connector.commit()"
      ],
      "metadata": {
        "id": "xLS_4Z8aUOBa"
      },
      "execution_count": null,
      "outputs": []
    },
    {
      "cell_type": "code",
      "source": [
        "query4 = f'SELECT * FROM items;'\n",
        "\n",
        "cursor.execute(query4)\n",
        "result = cursor.fetchall()\n",
        "\n",
        "for row in result:\n",
        "  print(row)"
      ],
      "metadata": {
        "colab": {
          "base_uri": "https://localhost:8080/"
        },
        "id": "Mx-GgCPDV_BZ",
        "outputId": "6f3353c8-7b2f-4f20-9ca6-f35b2086cd6e"
      },
      "execution_count": null,
      "outputs": [
        {
          "output_type": "stream",
          "name": "stdout",
          "text": [
            "(1, 'book', 'just a book')\n",
            "(2, 'water clock', 'shiny!')\n"
          ]
        }
      ]
    },
    {
      "cell_type": "code",
      "source": [
        "close_mysql_connection(connector, cursor)"
      ],
      "metadata": {
        "id": "wb5feFT-WcSa"
      },
      "execution_count": null,
      "outputs": []
    }
  ]
}