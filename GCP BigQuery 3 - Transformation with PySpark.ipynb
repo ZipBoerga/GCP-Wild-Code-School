{
  "nbformat": 4,
  "nbformat_minor": 0,
  "metadata": {
    "colab": {
      "provenance": []
    },
    "kernelspec": {
      "name": "python3",
      "display_name": "Python 3"
    },
    "language_info": {
      "name": "python"
    }
  },
  "cells": [
    {
      "cell_type": "code",
      "execution_count": null,
      "metadata": {
        "colab": {
          "base_uri": "https://localhost:8080/"
        },
        "id": "T14ROb2kXBp_",
        "outputId": "7d2a4c9d-f22e-47b9-ee57-176e64558647"
      },
      "outputs": [
        {
          "output_type": "stream",
          "name": "stdout",
          "text": [
            "Collecting pyspark\n",
            "  Downloading pyspark-3.5.1.tar.gz (317.0 MB)\n",
            "\u001b[2K     \u001b[90m━━━━━━━━━━━━━━━━━━━━━━━━━━━━━━━━━━━━━━━━\u001b[0m \u001b[32m317.0/317.0 MB\u001b[0m \u001b[31m429.6 kB/s\u001b[0m eta \u001b[36m0:00:00\u001b[0m\n",
            "\u001b[?25h  Preparing metadata (setup.py) ... \u001b[?25l\u001b[?25hdone\n",
            "Requirement already satisfied: py4j==0.10.9.7 in /usr/local/lib/python3.10/dist-packages (from pyspark) (0.10.9.7)\n",
            "Building wheels for collected packages: pyspark\n",
            "  Building wheel for pyspark (setup.py) ... \u001b[?25l\u001b[?25hdone\n",
            "  Created wheel for pyspark: filename=pyspark-3.5.1-py2.py3-none-any.whl size=317488493 sha256=bdef52bd54a2be2e40183bdbf1b466e75c6a6e35956ee36d0a17d0d1a343f29b\n",
            "  Stored in directory: /root/.cache/pip/wheels/80/1d/60/2c256ed38dddce2fdd93be545214a63e02fbd8d74fb0b7f3a6\n",
            "Successfully built pyspark\n",
            "Installing collected packages: pyspark\n",
            "Successfully installed pyspark-3.5.1\n"
          ]
        }
      ],
      "source": [
        "!pip install pyspark"
      ]
    },
    {
      "cell_type": "code",
      "source": [
        "from pyspark.sql import SparkSession, DataFrame\n",
        "from pyspark.sql.types import StructType, StructField, IntegerType, StringType, DoubleType\n",
        "from pyspark.sql import functions as F\n",
        "import requests"
      ],
      "metadata": {
        "id": "niaJG5YhXYdF"
      },
      "execution_count": null,
      "outputs": []
    },
    {
      "cell_type": "code",
      "source": [
        "spark = SparkSession.builder.appName('Dataproc Transformation').getOrCreate()\n",
        "sc = spark.sparkContext\n",
        "\n",
        "def get_data(url: str, schema: StructType = None,\n",
        "             separator: str = '\\t',\n",
        "             header: bool = False) -> DataFrame:\n",
        "\n",
        "  data = requests.get(url).text\n",
        "\n",
        "  lines = data.splitlines()\n",
        "  df: DataFrame = None\n",
        "\n",
        "  infer_schema = False if schema else True\n",
        "  if header:\n",
        "    column_names = lines[0].split(separator)\n",
        "    lines = lines[0:]\n",
        "    df = spark.read.csv(sc.parallelize(lines), sep=separator, schema=schema,\n",
        "                        inferSchema=infer_schema, header=True)\n",
        "    if not schema:\n",
        "      df = df.toDF(*column_names)\n",
        "  else:\n",
        "      df = spark.read.csv(sc.parallelize(lines), sep=separator, schema=schema, inferSchema=infer_schema)\n",
        "  return df"
      ],
      "metadata": {
        "id": "uPnj19xjYNcl"
      },
      "execution_count": null,
      "outputs": []
    },
    {
      "cell_type": "code",
      "source": [
        "order_url = 'https://raw.githubusercontent.com/DaPlayfulQueen/DE_track_data/master/northwind/orders.csv'\n",
        "\n",
        "order_df = get_data(order_url, separator=',', header=True)\n",
        "order_df.show(5)"
      ],
      "metadata": {
        "colab": {
          "base_uri": "https://localhost:8080/"
        },
        "id": "Au0ELvp0YRy4",
        "outputId": "81c5ed76-4676-4ba3-ac1d-d5d5b4af0b5b"
      },
      "execution_count": null,
      "outputs": [
        {
          "output_type": "stream",
          "name": "stdout",
          "text": [
            "+-------+----------+----------+-------------------+-------------------+--------------------+-------+-------+--------------------+-------------------+--------------+----------+--------------+-----------+\n",
            "|orderID|customerID|employeeID|          orderDate|       requiredDate|         shippedDate|shipVia|freight|            shipName|        shipAddress|      shipCity|shipRegion|shipPostalCode|shipCountry|\n",
            "+-------+----------+----------+-------------------+-------------------+--------------------+-------+-------+--------------------+-------------------+--------------+----------+--------------+-----------+\n",
            "|  10248|     VINET|         5|1996-07-04 00:00:00|1996-08-01 00:00:00|1996-07-16 00:00:...|      3|  32.38|Vins et alcools C...| 59 rue de l'Abbaye|         Reims|      NULL|         51100|     France|\n",
            "|  10249|     TOMSP|         6|1996-07-05 00:00:00|1996-08-16 00:00:00|1996-07-10 00:00:...|      1|  11.61|  Toms Spezialitäten|      Luisenstr. 48|       Münster|      NULL|         44087|    Germany|\n",
            "|  10250|     HANAR|         4|1996-07-08 00:00:00|1996-08-05 00:00:00|1996-07-12 00:00:...|      2|  65.83|       Hanari Carnes|     Rua do Paço 67|Rio de Janeiro|        RJ|     05454-876|     Brazil|\n",
            "|  10251|     VICTE|         3|1996-07-08 00:00:00|1996-08-05 00:00:00|1996-07-15 00:00:...|      1|  41.34|Victuailles en stock|  2 rue du Commerce|          Lyon|      NULL|         69004|     France|\n",
            "|  10252|     SUPRD|         4|1996-07-09 00:00:00|1996-08-06 00:00:00|1996-07-11 00:00:...|      2|   51.3|    Suprêmes délices|Boulevard Tirou 255|     Charleroi|      NULL|        B-6000|    Belgium|\n",
            "+-------+----------+----------+-------------------+-------------------+--------------------+-------+-------+--------------------+-------------------+--------------+----------+--------------+-----------+\n",
            "only showing top 5 rows\n",
            "\n"
          ]
        }
      ]
    },
    {
      "cell_type": "code",
      "source": [
        "order_details_url = 'https://raw.githubusercontent.com/DaPlayfulQueen/DE_track_data/master/northwind/order_details.csv'\n",
        "\n",
        "order_details_df = get_data(order_details_url, separator=',', header=True)\n",
        "order_details_df.show(5)"
      ],
      "metadata": {
        "colab": {
          "base_uri": "https://localhost:8080/"
        },
        "id": "1hoelS3fbsC7",
        "outputId": "cb263b83-58e8-4646-c5d9-4b5702ba0e3a"
      },
      "execution_count": null,
      "outputs": [
        {
          "output_type": "stream",
          "name": "stdout",
          "text": [
            "+-------+---------+---------+--------+--------+\n",
            "|orderID|productID|unitPrice|quantity|discount|\n",
            "+-------+---------+---------+--------+--------+\n",
            "|  10248|       11|     14.0|      12|     0.0|\n",
            "|  10248|       42|      9.8|      10|     0.0|\n",
            "|  10248|       72|     34.8|       5|     0.0|\n",
            "|  10249|       14|     18.6|       9|     0.0|\n",
            "|  10249|       51|     42.4|      40|     0.0|\n",
            "+-------+---------+---------+--------+--------+\n",
            "only showing top 5 rows\n",
            "\n"
          ]
        }
      ]
    },
    {
      "cell_type": "code",
      "source": [
        "products_url = 'https://raw.githubusercontent.com/DaPlayfulQueen/DE_track_data/master/northwind/products.csv'\n",
        "\n",
        "products_df = get_data(products_url, separator=',', header=True)\n",
        "products_df.show(5)"
      ],
      "metadata": {
        "colab": {
          "base_uri": "https://localhost:8080/"
        },
        "id": "5q7M_U5Ddnq8",
        "outputId": "9319216f-dc2c-464e-cd84-e63e40450562"
      },
      "execution_count": null,
      "outputs": [
        {
          "output_type": "stream",
          "name": "stdout",
          "text": [
            "+---------+--------------------+----------+----------+-------------------+---------+------------+------------+------------+------------+\n",
            "|productID|         productName|supplierID|categoryID|    quantityPerUnit|unitPrice|unitsInStock|unitsOnOrder|reorderLevel|discontinued|\n",
            "+---------+--------------------+----------+----------+-------------------+---------+------------+------------+------------+------------+\n",
            "|        1|                Chai|         1|         1| 10 boxes x 20 bags|     18.0|          39|           0|          10|           0|\n",
            "|        2|               Chang|         1|         1| 24 - 12 oz bottles|     19.0|          17|          40|          25|           0|\n",
            "|        3|       Aniseed Syrup|         1|         2|12 - 550 ml bottles|     10.0|          13|          70|          25|           0|\n",
            "|        4|Chef Anton's Caju...|         2|         2|     48 - 6 oz jars|     22.0|          53|           0|           0|           0|\n",
            "|        5|Chef Anton's Gumb...|         2|         2|           36 boxes|    21.35|           0|           0|           0|           1|\n",
            "+---------+--------------------+----------+----------+-------------------+---------+------------+------------+------------+------------+\n",
            "only showing top 5 rows\n",
            "\n"
          ]
        }
      ]
    },
    {
      "cell_type": "code",
      "source": [
        "customers_url = 'https://raw.githubusercontent.com/DaPlayfulQueen/DE_track_data/master/northwind/customers.csv'\n",
        "\n",
        "customers_df = get_data(customers_url, separator=',', header=True)\n",
        "customers_df.show(5)"
      ],
      "metadata": {
        "colab": {
          "base_uri": "https://localhost:8080/"
        },
        "id": "h1qj8UcBo29N",
        "outputId": "629fd9f3-125c-4368-ba62-3edbaf88afeb"
      },
      "execution_count": null,
      "outputs": [
        {
          "output_type": "stream",
          "name": "stdout",
          "text": [
            "+----------+--------------------+------------------+--------------------+--------------------+-----------+------+----------+-------+--------------+--------------+\n",
            "|customerID|         companyName|       contactName|        contactTitle|             address|       city|region|postalCode|country|         phone|           fax|\n",
            "+----------+--------------------+------------------+--------------------+--------------------+-----------+------+----------+-------+--------------+--------------+\n",
            "|     ALFKI| Alfreds Futterkiste|      Maria Anders|Sales Representative|       Obere Str. 57|     Berlin|  NULL|     12209|Germany|   030-0074321|   030-0076545|\n",
            "|     ANATR|Ana Trujillo Empa...|      Ana Trujillo|               Owner|Avda. de la Const...|México D.F.|  NULL|     05021| Mexico|  (5) 555-4729|  (5) 555-3745|\n",
            "|     ANTON|Antonio Moreno Ta...|    Antonio Moreno|               Owner|     Mataderos  2312|México D.F.|  NULL|     05023| Mexico|  (5) 555-3932|          NULL|\n",
            "|     AROUT|     Around the Horn|      Thomas Hardy|Sales Representative|     120 Hanover Sq.|     London|  NULL|   WA1 1DP|     UK|(171) 555-7788|(171) 555-6750|\n",
            "|     BERGS|  Berglunds snabbköp|Christina Berglund| Order Administrator|     Berguvsvägen  8|      Luleå|  NULL|  S-958 22| Sweden| 0921-12 34 65| 0921-12 34 67|\n",
            "+----------+--------------------+------------------+--------------------+--------------------+-----------+------+----------+-------+--------------+--------------+\n",
            "only showing top 5 rows\n",
            "\n"
          ]
        }
      ]
    },
    {
      "cell_type": "code",
      "source": [
        "def show_nulls(df: DataFrame) -> None:\n",
        "  df.select([F.count(F.when(F.col(c).isNull(), c)).alias(c) for c in df.columns]).show()"
      ],
      "metadata": {
        "id": "Rdx6_beke27B"
      },
      "execution_count": null,
      "outputs": []
    },
    {
      "cell_type": "code",
      "source": [
        "show_nulls(products_df)"
      ],
      "metadata": {
        "colab": {
          "base_uri": "https://localhost:8080/"
        },
        "id": "aS7wiY8Ld1yC",
        "outputId": "59c0f894-7f94-4188-899a-88efd04968bf"
      },
      "execution_count": null,
      "outputs": [
        {
          "output_type": "stream",
          "name": "stdout",
          "text": [
            "+---------+-----------+----------+----------+---------------+---------+------------+------------+------------+------------+\n",
            "|productID|productName|supplierID|categoryID|quantityPerUnit|unitPrice|unitsInStock|unitsOnOrder|reorderLevel|discontinued|\n",
            "+---------+-----------+----------+----------+---------------+---------+------------+------------+------------+------------+\n",
            "|        0|          0|         0|         0|              0|        0|           0|           0|           0|           0|\n",
            "+---------+-----------+----------+----------+---------------+---------+------------+------------+------------+------------+\n",
            "\n"
          ]
        }
      ]
    },
    {
      "cell_type": "code",
      "source": [
        "show_nulls(order_df)"
      ],
      "metadata": {
        "colab": {
          "base_uri": "https://localhost:8080/"
        },
        "id": "G3iicVOofDFB",
        "outputId": "0b8f2bca-1515-40ee-afa5-9cf1f5abc15c"
      },
      "execution_count": null,
      "outputs": [
        {
          "output_type": "stream",
          "name": "stdout",
          "text": [
            "+-------+----------+----------+---------+------------+-----------+-------+-------+--------+-----------+--------+----------+--------------+-----------+\n",
            "|orderID|customerID|employeeID|orderDate|requiredDate|shippedDate|shipVia|freight|shipName|shipAddress|shipCity|shipRegion|shipPostalCode|shipCountry|\n",
            "+-------+----------+----------+---------+------------+-----------+-------+-------+--------+-----------+--------+----------+--------------+-----------+\n",
            "|      0|         0|         0|        0|           0|          0|      0|      0|       0|          0|       0|         0|             0|          0|\n",
            "+-------+----------+----------+---------+------------+-----------+-------+-------+--------+-----------+--------+----------+--------------+-----------+\n",
            "\n"
          ]
        }
      ]
    },
    {
      "cell_type": "code",
      "source": [
        "show_nulls(order_details_df)"
      ],
      "metadata": {
        "colab": {
          "base_uri": "https://localhost:8080/"
        },
        "id": "GZKOlFBXfsI3",
        "outputId": "3eeaa6ca-4490-4752-b2b3-c0ca38c8fea7"
      },
      "execution_count": null,
      "outputs": [
        {
          "output_type": "stream",
          "name": "stdout",
          "text": [
            "+-------+---------+---------+--------+--------+\n",
            "|orderID|productID|unitPrice|quantity|discount|\n",
            "+-------+---------+---------+--------+--------+\n",
            "|      0|        0|        0|       0|       0|\n",
            "+-------+---------+---------+--------+--------+\n",
            "\n"
          ]
        }
      ]
    },
    {
      "cell_type": "code",
      "source": [
        "show_nulls(customers_df)"
      ],
      "metadata": {
        "colab": {
          "base_uri": "https://localhost:8080/"
        },
        "id": "txDI9NMho8ck",
        "outputId": "11e4e77a-c099-4188-efc2-e81c2fe904ef"
      },
      "execution_count": null,
      "outputs": [
        {
          "output_type": "stream",
          "name": "stdout",
          "text": [
            "+----------+-----------+-----------+------------+-------+----+------+----------+-------+-----+---+\n",
            "|customerID|companyName|contactName|contactTitle|address|city|region|postalCode|country|phone|fax|\n",
            "+----------+-----------+-----------+------------+-------+----+------+----------+-------+-----+---+\n",
            "|         0|          0|          0|           0|      0|   0|     0|         0|      0|    0|  0|\n",
            "+----------+-----------+-----------+------------+-------+----+------+----------+-------+-----+---+\n",
            "\n"
          ]
        }
      ]
    },
    {
      "cell_type": "code",
      "source": [
        "products_df_to_mr = products_df.withColumn('unitPriceForProduct', products_df['unitPrice']).drop('unitPrice')\n",
        "order_details_df_to_mr = order_details_df.withColumn('unitPriceForOrder', order_details_df['unitPrice']).drop('unitPrice')\n",
        "\n",
        "full_order_details_df = order_details_df_to_mr.join(order_df, 'orderID', 'left') \\\n",
        "                                            .join(products_df_to_mr, 'productID', 'left')\n",
        "full_order_details_df.show(10)\n",
        "full_order_details_df.count()"
      ],
      "metadata": {
        "colab": {
          "base_uri": "https://localhost:8080/"
        },
        "id": "knLvpu0lf0Dp",
        "outputId": "eb15f135-ee06-4aad-cc42-846974407d1e"
      },
      "execution_count": null,
      "outputs": [
        {
          "output_type": "stream",
          "name": "stdout",
          "text": [
            "+---------+-------+--------+--------+-----------------+----------+----------+-------------------+-------------------+--------------------+-------+-------+--------------------+------------------+--------------+----------+--------------+-----------+--------------------+----------+----------+-----------------+------------+------------+------------+------------+-------------------+\n",
            "|productID|orderID|quantity|discount|unitPriceForOrder|customerID|employeeID|          orderDate|       requiredDate|         shippedDate|shipVia|freight|            shipName|       shipAddress|      shipCity|shipRegion|shipPostalCode|shipCountry|         productName|supplierID|categoryID|  quantityPerUnit|unitsInStock|unitsOnOrder|reorderLevel|discontinued|unitPriceForProduct|\n",
            "+---------+-------+--------+--------+-----------------+----------+----------+-------------------+-------------------+--------------------+-------+-------+--------------------+------------------+--------------+----------+--------------+-----------+--------------------+----------+----------+-----------------+------------+------------+------------+------------+-------------------+\n",
            "|       65|  10250|      15|    0.15|             16.8|     HANAR|         4|1996-07-08 00:00:00|1996-08-05 00:00:00|1996-07-12 00:00:...|      2|  65.83|       Hanari Carnes|    Rua do Paço 67|Rio de Janeiro|        RJ|     05454-876|     Brazil|Louisiana Fiery H...|         2|         2|32 - 8 oz bottles|          76|           0|           0|           0|              21.05|\n",
            "|       65|  10251|      20|     0.0|             16.8|     VICTE|         3|1996-07-08 00:00:00|1996-08-05 00:00:00|1996-07-15 00:00:...|      1|  41.34|Victuailles en stock| 2 rue du Commerce|          Lyon|      NULL|         69004|     France|Louisiana Fiery H...|         2|         2|32 - 8 oz bottles|          76|           0|           0|           0|              21.05|\n",
            "|       22|  10251|       6|    0.05|             16.8|     VICTE|         3|1996-07-08 00:00:00|1996-08-05 00:00:00|1996-07-15 00:00:...|      1|  41.34|Victuailles en stock| 2 rue du Commerce|          Lyon|      NULL|         69004|     France| Gustaf's Knäckebröd|         9|         5| 24 - 500 g pkgs.|         104|           0|          25|           0|               21.0|\n",
            "|       57|  10251|      15|    0.05|             15.6|     VICTE|         3|1996-07-08 00:00:00|1996-08-05 00:00:00|1996-07-15 00:00:...|      1|  41.34|Victuailles en stock| 2 rue du Commerce|          Lyon|      NULL|         69004|     France|      Ravioli Angelo|        26|         5| 24 - 250 g pkgs.|          36|           0|          20|           0|               19.5|\n",
            "|       41|  10250|      10|     0.0|              7.7|     HANAR|         4|1996-07-08 00:00:00|1996-08-05 00:00:00|1996-07-12 00:00:...|      2|  65.83|       Hanari Carnes|    Rua do Paço 67|Rio de Janeiro|        RJ|     05454-876|     Brazil|Jack's New Englan...|        19|         8|  12 - 12 oz cans|          85|           0|          10|           0|               9.65|\n",
            "|       72|  10248|       5|     0.0|             34.8|     VINET|         5|1996-07-04 00:00:00|1996-08-01 00:00:00|1996-07-16 00:00:...|      3|  32.38|Vins et alcools C...|59 rue de l'Abbaye|         Reims|      NULL|         51100|     France|Mozzarella di Gio...|        14|         4| 24 - 200 g pkgs.|          14|           0|           0|           0|               34.8|\n",
            "|       51|  10249|      40|     0.0|             42.4|     TOMSP|         6|1996-07-05 00:00:00|1996-08-16 00:00:00|1996-07-10 00:00:...|      1|  11.61|  Toms Spezialitäten|     Luisenstr. 48|       Münster|      NULL|         44087|    Germany|Manjimup Dried Ap...|        24|         7| 50 - 300 g pkgs.|          20|           0|          10|           0|               53.0|\n",
            "|       51|  10250|      35|    0.15|             42.4|     HANAR|         4|1996-07-08 00:00:00|1996-08-05 00:00:00|1996-07-12 00:00:...|      2|  65.83|       Hanari Carnes|    Rua do Paço 67|Rio de Janeiro|        RJ|     05454-876|     Brazil|Manjimup Dried Ap...|        24|         7| 50 - 300 g pkgs.|          20|           0|          10|           0|               53.0|\n",
            "|       11|  10248|      12|     0.0|             14.0|     VINET|         5|1996-07-04 00:00:00|1996-08-01 00:00:00|1996-07-16 00:00:...|      3|  32.38|Vins et alcools C...|59 rue de l'Abbaye|         Reims|      NULL|         51100|     France|      Queso Cabrales|         5|         4|        1 kg pkg.|          22|          30|          30|           0|               21.0|\n",
            "|       14|  10249|       9|     0.0|             18.6|     TOMSP|         6|1996-07-05 00:00:00|1996-08-16 00:00:00|1996-07-10 00:00:...|      1|  11.61|  Toms Spezialitäten|     Luisenstr. 48|       Münster|      NULL|         44087|    Germany|                Tofu|         6|         7| 40 - 100 g pkgs.|          35|           0|           0|           0|              23.25|\n",
            "+---------+-------+--------+--------+-----------------+----------+----------+-------------------+-------------------+--------------------+-------+-------+--------------------+------------------+--------------+----------+--------------+-----------+--------------------+----------+----------+-----------------+------------+------------+------------+------------+-------------------+\n",
            "only showing top 10 rows\n",
            "\n"
          ]
        },
        {
          "output_type": "execute_result",
          "data": {
            "text/plain": [
              "2155"
            ]
          },
          "metadata": {},
          "execution_count": 89
        }
      ]
    },
    {
      "cell_type": "code",
      "source": [
        "customer_purchases_df = order_details_df.join(order_df, 'orderId', 'left')\n",
        "customer_purchases_df = customer_purchases_df.groupBy('customerId').agg(F.sum(F.col('unitPrice') * F.col('quantity')).alias('total_spent'))\n",
        "customer_purchases_df.show()"
      ],
      "metadata": {
        "colab": {
          "base_uri": "https://localhost:8080/"
        },
        "id": "Q0t9uRlvpDA0",
        "outputId": "5464c2d2-43b9-4fca-9729-c2c6d653c029"
      },
      "execution_count": null,
      "outputs": [
        {
          "output_type": "stream",
          "name": "stdout",
          "text": [
            "+----------+------------------+\n",
            "|customerId|       total_spent|\n",
            "+----------+------------------+\n",
            "|     WOLZA|           3531.95|\n",
            "|     MAISD|          10430.58|\n",
            "|     BLAUS|            3239.8|\n",
            "|     MAGAA| 7603.849999999999|\n",
            "|     FOLKO|          32555.55|\n",
            "|     ISLAT|            6146.3|\n",
            "|     VAFFE|           16643.8|\n",
            "|     ANATR|1402.9499999999998|\n",
            "|     BLONP|           19088.0|\n",
            "|     CENTC|             100.8|\n",
            "|     TRAIH|1571.1999999999998|\n",
            "|     SPLIR|12489.699999999999|\n",
            "|     LILAS|17825.059999999998|\n",
            "|     WARTH|           16617.1|\n",
            "|     FRANR|           3172.16|\n",
            "|     SEVES|          17172.05|\n",
            "|     HILAA|23611.579999999998|\n",
            "|     EASTC|          15033.66|\n",
            "|     HANAR|          34101.15|\n",
            "|     DRACD|           3763.21|\n",
            "+----------+------------------+\n",
            "only showing top 20 rows\n",
            "\n"
          ]
        }
      ]
    },
    {
      "cell_type": "code",
      "source": [
        "customer_purchases_df.select(F.min('total_spent'), F.max('total_spent')).show()"
      ],
      "metadata": {
        "colab": {
          "base_uri": "https://localhost:8080/"
        },
        "id": "aRlUA_IWq4wv",
        "outputId": "d6eeaa99-8687-4cff-d5bc-9979af20a354"
      },
      "execution_count": null,
      "outputs": [
        {
          "output_type": "stream",
          "name": "stdout",
          "text": [
            "+----------------+------------------+\n",
            "|min(total_spent)|  max(total_spent)|\n",
            "+----------------+------------------+\n",
            "|           100.8|117483.39000000001|\n",
            "+----------------+------------------+\n",
            "\n"
          ]
        }
      ]
    },
    {
      "cell_type": "code",
      "source": [
        "quantiles = customer_purchases_df.approxQuantile('total_spent', [0.25, 0.5, 0.75], 0.001)\n",
        "quantiles"
      ],
      "metadata": {
        "colab": {
          "base_uri": "https://localhost:8080/"
        },
        "id": "xRaiZ1CPr-tb",
        "outputId": "24ab0119-7da7-440d-972f-af26235ddc35"
      },
      "execution_count": null,
      "outputs": [
        {
          "output_type": "execute_result",
          "data": {
            "text/plain": [
              "[3361.0, 7555.6, 18138.45]"
            ]
          },
          "metadata": {},
          "execution_count": 109
        }
      ]
    },
    {
      "cell_type": "code",
      "source": [
        "spending_category_expr = F.when(customer_purchases_df.total_spent < 1000, 'low') \\\n",
        "                          .when((customer_purchases_df.total_spent >= 1000) & (customer_purchases_df.total_spent < 15000), 'medium') \\\n",
        "                          .otherwise('high')\n",
        "customer_purchases_df.withColumn('spending_category', spending_category_expr).show()"
      ],
      "metadata": {
        "colab": {
          "base_uri": "https://localhost:8080/"
        },
        "id": "5Ukv4r4Jra7M",
        "outputId": "94061bfd-2084-4c4e-8cac-88813533fb23"
      },
      "execution_count": null,
      "outputs": [
        {
          "output_type": "stream",
          "name": "stdout",
          "text": [
            "+----------+------------------+-----------------+\n",
            "|customerId|       total_spent|spending_category|\n",
            "+----------+------------------+-----------------+\n",
            "|     WOLZA|           3531.95|           medium|\n",
            "|     MAISD|          10430.58|           medium|\n",
            "|     BLAUS|            3239.8|           medium|\n",
            "|     MAGAA| 7603.849999999999|           medium|\n",
            "|     FOLKO|          32555.55|             high|\n",
            "|     ISLAT|            6146.3|           medium|\n",
            "|     VAFFE|           16643.8|             high|\n",
            "|     ANATR|1402.9499999999998|           medium|\n",
            "|     BLONP|           19088.0|             high|\n",
            "|     CENTC|             100.8|              low|\n",
            "|     TRAIH|1571.1999999999998|           medium|\n",
            "|     SPLIR|12489.699999999999|           medium|\n",
            "|     LILAS|17825.059999999998|             high|\n",
            "|     WARTH|           16617.1|             high|\n",
            "|     FRANR|           3172.16|           medium|\n",
            "|     SEVES|          17172.05|             high|\n",
            "|     HILAA|23611.579999999998|             high|\n",
            "|     EASTC|          15033.66|             high|\n",
            "|     HANAR|          34101.15|             high|\n",
            "|     DRACD|           3763.21|           medium|\n",
            "+----------+------------------+-----------------+\n",
            "only showing top 20 rows\n",
            "\n"
          ]
        }
      ]
    },
    {
      "cell_type": "code",
      "source": [
        "from pyspark.sql import SparkSession, DataFrame\n",
        "from pyspark.sql.types import StructType, StructField, IntegerType, StringType, DoubleType\n",
        "from pyspark.sql import functions as F\n",
        "import requests\n",
        "\n",
        "spark = SparkSession.builder.appName('Dataproc Transformation').getOrCreate()\n",
        "sc = spark.sparkContext\n",
        "\n",
        "def get_data(url: str, schema: StructType = None,\n",
        "             separator: str = '\\t',\n",
        "             header: bool = False) -> DataFrame:\n",
        "\n",
        "  data = requests.get(url).text\n",
        "\n",
        "  lines = data.splitlines()\n",
        "  df: DataFrame = None\n",
        "\n",
        "  infer_schema = False if schema else True\n",
        "  if header:\n",
        "    column_names = lines[0].split(separator)\n",
        "    lines = lines[0:]\n",
        "    df = spark.read.csv(sc.parallelize(lines), sep=separator, schema=schema,\n",
        "                        inferSchema=infer_schema, header=True)\n",
        "    if not schema:\n",
        "      df = df.toDF(*column_names)\n",
        "  else:\n",
        "      df = spark.read.csv(sc.parallelize(lines), sep=separator, schema=schema, inferSchema=infer_schema)\n",
        "  return df\n",
        "\n",
        "order_url = 'https://raw.githubusercontent.com/DaPlayfulQueen/DE_track_data/master/northwind/orders.csv'\n",
        "order_df = get_data(order_url, separator=',', header=True)\n",
        "order_details_url = 'https://raw.githubusercontent.com/DaPlayfulQueen/DE_track_data/master/northwind/order_details.csv'\n",
        "order_details_df = get_data(order_details_url, separator=',', header=True)\n",
        "products_url = 'https://raw.githubusercontent.com/DaPlayfulQueen/DE_track_data/master/northwind/products.csv'\n",
        "products_df = get_data(products_url, separator=',', header=True)\n",
        "customers_url = 'https://raw.githubusercontent.com/DaPlayfulQueen/DE_track_data/master/northwind/customers.csv'\n",
        "customers_df = get_data(customers_url, separator=',', header=True)\n",
        "\n",
        "  products_df_to_mr = products_df.withColumn('unitPriceForProduct', products_df['unitPrice']).drop('unitPrice')\n",
        "  order_details_df_to_mr = order_details_df.withColumn('unitPriceForOrder', order_details_df['unitPrice']).drop('unitPrice')\n",
        "  full_order_details_df = order_details_df_to_mr.join(order_df, 'orderID', 'left') \\\n",
        "                                              .join(products_df_to_mr, 'productID', 'left')\n",
        "\n",
        "  customer_purchases_df = full_order_details_df.join(customers_df, 'customerId', 'left').groupBy('customerId').agg(F.sum(F.col('unitPriceForOrder') * F.col('quantity')).alias('total_spent'))\n",
        "  spending_category_expr = F.when(customer_purchases_df.total_spent < 1000, 'low') \\\n",
        "                            .when((customer_purchases_df.total_spent >= 1000) & (customer_purchases_df.total_spent < 15000), 'medium') \\\n",
        "                            .otherwise('high')\n",
        "  customer_purchases_df = customer_purchases_df.withColumn('spending_category', spending_category_expr)\n",
        "\n",
        "  customer_purchases_df.show(5)\n",
        "  full_order_details_df.show(5)\n"
      ],
      "metadata": {
        "id": "EKAdEWbEru4X",
        "colab": {
          "base_uri": "https://localhost:8080/"
        },
        "outputId": "4184fcc5-4c7c-443f-fc35-8a7c48d4e5c0"
      },
      "execution_count": null,
      "outputs": [
        {
          "output_type": "stream",
          "name": "stdout",
          "text": [
            "+----------+-----------------+-----------------+--------------------+--------------------+--------------------+--------------------+---------+------+----------+-------+--------------+--------------+\n",
            "|customerId|      total_spent|spending_category|         companyName|         contactName|        contactTitle|             address|     city|region|postalCode|country|         phone|           fax|\n",
            "+----------+-----------------+-----------------+--------------------+--------------------+--------------------+--------------------+---------+------+----------+-------+--------------+--------------+\n",
            "|     WOLZA|          3531.95|           medium|      Wolski  Zajazd|Zbyszek Piestrzen...|               Owner|     ul. Filtrowa 68| Warszawa|  NULL|    01-012| Poland| (26) 642-7012| (26) 642-7012|\n",
            "|     MAISD|         10430.58|           medium|        Maison Dewey|     Catherine Dewey|         Sales Agent| Rue Joseph-Bens 532|Bruxelles|  NULL|    B-1180|Belgium|(02) 201 24 67|(02) 201 24 68|\n",
            "|     BLAUS|           3239.8|           medium|Blauer See Delika...|          Hanna Moos|Sales Representative|      Forsterstr. 57| Mannheim|  NULL|     68306|Germany|    0621-08460|    0621-08924|\n",
            "|     MAGAA|7603.849999999999|           medium|Magazzini Aliment...|    Giovanni Rovelli|   Marketing Manager|Via Ludovico il M...|  Bergamo|  NULL|     24100|  Italy|    035-640230|    035-640231|\n",
            "|     FOLKO|         32555.55|             high|      Folk och fä HB|       Maria Larsson|               Owner|        Åkergatan 24|   Bräcke|  NULL|  S-844 67| Sweden| 0695-34 67 21|          NULL|\n",
            "+----------+-----------------+-----------------+--------------------+--------------------+--------------------+--------------------+---------+------+----------+-------+--------------+--------------+\n",
            "only showing top 5 rows\n",
            "\n",
            "+---------+-------+--------+--------+-----------------+----------+----------+-------------------+-------------------+--------------------+-------+-------+--------------------+------------------+--------------+----------+--------------+-----------+--------------------+----------+----------+----------------+------------+------------+------------+------------+-------------------+\n",
            "|productID|orderID|quantity|discount|unitPriceForOrder|customerID|employeeID|          orderDate|       requiredDate|         shippedDate|shipVia|freight|            shipName|       shipAddress|      shipCity|shipRegion|shipPostalCode|shipCountry|         productName|supplierID|categoryID| quantityPerUnit|unitsInStock|unitsOnOrder|reorderLevel|discontinued|unitPriceForProduct|\n",
            "+---------+-------+--------+--------+-----------------+----------+----------+-------------------+-------------------+--------------------+-------+-------+--------------------+------------------+--------------+----------+--------------+-----------+--------------------+----------+----------+----------------+------------+------------+------------+------------+-------------------+\n",
            "|       41|  10250|      10|     0.0|              7.7|     HANAR|         4|1996-07-08 00:00:00|1996-08-05 00:00:00|1996-07-12 00:00:...|      2|  65.83|       Hanari Carnes|    Rua do Paço 67|Rio de Janeiro|        RJ|     05454-876|     Brazil|Jack's New Englan...|        19|         8| 12 - 12 oz cans|          85|           0|          10|           0|               9.65|\n",
            "|       72|  10248|       5|     0.0|             34.8|     VINET|         5|1996-07-04 00:00:00|1996-08-01 00:00:00|1996-07-16 00:00:...|      3|  32.38|Vins et alcools C...|59 rue de l'Abbaye|         Reims|      NULL|         51100|     France|Mozzarella di Gio...|        14|         4|24 - 200 g pkgs.|          14|           0|           0|           0|               34.8|\n",
            "|       51|  10249|      40|     0.0|             42.4|     TOMSP|         6|1996-07-05 00:00:00|1996-08-16 00:00:00|1996-07-10 00:00:...|      1|  11.61|  Toms Spezialitäten|     Luisenstr. 48|       Münster|      NULL|         44087|    Germany|Manjimup Dried Ap...|        24|         7|50 - 300 g pkgs.|          20|           0|          10|           0|               53.0|\n",
            "|       11|  10248|      12|     0.0|             14.0|     VINET|         5|1996-07-04 00:00:00|1996-08-01 00:00:00|1996-07-16 00:00:...|      3|  32.38|Vins et alcools C...|59 rue de l'Abbaye|         Reims|      NULL|         51100|     France|      Queso Cabrales|         5|         4|       1 kg pkg.|          22|          30|          30|           0|               21.0|\n",
            "|       14|  10249|       9|     0.0|             18.6|     TOMSP|         6|1996-07-05 00:00:00|1996-08-16 00:00:00|1996-07-10 00:00:...|      1|  11.61|  Toms Spezialitäten|     Luisenstr. 48|       Münster|      NULL|         44087|    Germany|                Tofu|         6|         7|40 - 100 g pkgs.|          35|           0|           0|           0|              23.25|\n",
            "+---------+-------+--------+--------+-----------------+----------+----------+-------------------+-------------------+--------------------+-------+-------+--------------------+------------------+--------------+----------+--------------+-----------+--------------------+----------+----------+----------------+------------+------------+------------+------------+-------------------+\n",
            "only showing top 5 rows\n",
            "\n"
          ]
        }
      ]
    },
    {
      "cell_type": "code",
      "source": [
        "from pyspark.sql import SparkSession, DataFrame\n",
        "from pyspark.sql.types import StructType, StructField, IntegerType, StringType, DoubleType\n",
        "from pyspark.sql import functions as F\n",
        "import requests\n",
        "\n",
        "def get_data_from_db(database_url: str, db_properties: dict, table_name: str) -> DataFrame:\n",
        "  spark = SparkSession.builder.appName('Dataproc Transformation').getOrCreate()\n",
        "  sc = spark.sparkContext\n",
        "  return spark.read.jdbc(url=database_url, table=table_name, properties=db_properties)\n",
        "\n",
        "\n",
        "def write_to_bigquery(df: DataFrame, dataset: str, table: str):\n",
        "  df.write.format(\"bigquery\") \\\n",
        "    .option(\"writeMethod\", \"direct\") \\\n",
        "    .save(f'{dataset}.{table}')\n",
        "\n",
        "def round_double_columns(df):\n",
        "    double_columns = [col_name for col_name, data_type in df.dtypes if data_type == 'double']\n",
        "\n",
        "    # Round the double-type columns\n",
        "    for col_name in double_columns:\n",
        "        df = df.withColumn(col_name, col(col_name).cast('decimal(18, 3)').cast('double'))\n",
        "\n",
        "    return df\n",
        "\n",
        "\n",
        "def main():\n",
        "  database_url = \"jdbc:postgresql://172.21.160.3:5432/northwind\"\n",
        "  database_properties = {\n",
        "      \"user\": \"reader\",\n",
        "      \"password\": \"mycoolpass\",\n",
        "      \"driver\": \"org.postgresql.Driver\"\n",
        "  }\n",
        "\n",
        "  order_df = get_data_from_db(database_url, database_properties, 'orders')\n",
        "  order_details_df = get_data_from_db(database_url, database_properties, 'order_details')\n",
        "  products_df = get_data_from_db(database_url, database_properties, 'products')\n",
        "  customers_df = get_data_from_db(database_url, database_properties, 'customers')\n",
        "\n",
        "\n",
        "  products_df_to_mr = products_df.withColumn('unitPriceForProduct', products_df['unitPrice']).drop('unitPrice')\n",
        "  order_details_df_to_mr = order_details_df.withColumn('unitPriceForOrder', order_details_df['unitPrice']).drop('unitPrice')\n",
        "  full_order_details_df = order_details_df_to_mr.join(order_df, 'orderID', 'left') \\\n",
        "                                              .join(products_df_to_mr, 'productID', 'left')\n",
        "\n",
        "  customer_purchases_df = full_order_details_df.groupBy('customerId').agg(F.sum(F.col('unitPriceForOrder') * F.col('quantity')).alias('total_spent'))\n",
        "  spending_category_expr = F.when(customer_purchases_df.total_spent < 1000, 'low') \\\n",
        "                            .when((customer_purchases_df.total_spent >= 1000) & (customer_purchases_df.total_spent < 15000), 'medium') \\\n",
        "                            .otherwise('high')\n",
        "  customer_purchases_df = customer_purchases_df.withColumn('spending_category', spending_category_expr).join(customers_df, 'customerId', 'left')\n",
        "\n",
        "  customer_purchases_df.show(5)\n",
        "  full_order_details_df.show(5)\n",
        "\n",
        "  write_to_bigquery(customer_purchases_df, 'northwind', 'customers')\n",
        "  write_to_bigquery(full_order_details_df, 'northwind', 'order_details')\n",
        "\n",
        "if __name__ == '__main__':\n",
        "  main()"
      ],
      "metadata": {
        "id": "j4fGgaFtCHPA"
      },
      "execution_count": null,
      "outputs": []
    },
    {
      "cell_type": "code",
      "source": [
        "from pyspark.sql import SparkSession, DataFrame\n",
        "from pyspark.sql.types import StructType, StructField, IntegerType, StringType, DoubleType, DecimalType\n",
        "from pyspark.sql import functions as F\n",
        "import requests\n",
        "\n",
        "def get_data_from_db(database_url: str, db_properties: dict, table_name: str) -> DataFrame:\n",
        "  spark = SparkSession.builder.appName('Dataproc Transformation').getOrCreate()\n",
        "  sc = spark.sparkContext\n",
        "  return spark.read.jdbc(url=database_url, table=table_name, properties=db_properties)\n",
        "\n",
        "\n",
        "def write_to_bigquery(df: DataFrame, dataset: str, table: str):\n",
        "  df.write.format(\"bigquery\") \\\n",
        "    .option(\"writeMethod\", \"direct\") \\\n",
        "    .save(f'{dataset}.{table}')\n",
        "\n",
        "def cast_decimal_columns(df):\n",
        "    casted_df = df\n",
        "    for col_name in df.columns:\n",
        "        data_type = df.schema[col_name].dataType\n",
        "        if isinstance(data_type, DecimalType):\n",
        "            casted_df = casted_df.withColumn(col_name, F.col(col_name).cast('double'))\n",
        "    return casted_df\n",
        "\n",
        "\n",
        "def main():\n",
        "  database_url = \"jdbc:postgresql://172.21.160.3:5432/northwind\"\n",
        "  database_properties = {\n",
        "      \"user\": \"reader\",\n",
        "      \"password\": \"mycoolpass\",\n",
        "      \"driver\": \"org.postgresql.Driver\"\n",
        "  }\n",
        "\n",
        "  order_df = get_data_from_db(database_url, database_properties, 'orders')\n",
        "  order_details_df = get_data_from_db(database_url, database_properties, 'order_details')\n",
        "  products_df = get_data_from_db(database_url, database_properties, 'products')\n",
        "  customers_df = get_data_from_db(database_url, database_properties, 'customers')\n",
        "\n",
        "  products_df_to_mr = products_df.withColumn('unitPriceForProduct', products_df['unitPrice']).drop('unitPrice')\n",
        "  order_details_df_to_mr = order_details_df.withColumn('unitPriceForOrder', order_details_df['unitPrice']).drop('unitPrice')\n",
        "  full_order_details_df = order_details_df_to_mr.join(order_df, 'orderID', 'left') \\\n",
        "                                              .join(products_df_to_mr, 'productID', 'left')\n",
        "\n",
        "  customer_purchases_df = full_order_details_df.groupBy('customerId').agg(F.sum(F.col('unitPriceForOrder') * F.col('quantity')).alias('total_spent'))\n",
        "  spending_category_expr = F.when(customer_purchases_df.total_spent < 1000, 'low') \\\n",
        "                            .when((customer_purchases_df.total_spent >= 1000) & (customer_purchases_df.total_spent < 15000), 'medium') \\\n",
        "                            .otherwise('high')\n",
        "  customer_purchases_df = customer_purchases_df.withColumn('spending_category', spending_category_expr).join(customers_df, 'customerId', 'left')\n",
        "\n",
        "  customer_purchases_df = cast_decimal_columns(customer_purchases_df)\n",
        "  full_order_details_df = cast_decimal_columns(full_order_details_df)\n",
        "\n",
        "  customer_purchases_df.show(5)\n",
        "  full_order_details_df.show(5)\n",
        "\n",
        "  write_to_bigquery(customer_purchases_df, 'northwind', 'customers')\n",
        "  write_to_bigquery(full_order_details_df, 'northwind', 'order_details')\n",
        "\n",
        "if __name__ == '__main__':\n",
        "  main()"
      ],
      "metadata": {
        "id": "12tNKd6izRsJ"
      },
      "execution_count": null,
      "outputs": []
    },
    {
      "cell_type": "code",
      "source": [
        "from pyspark.sql import SparkSession, DataFrame\n",
        "from pyspark.sql.types import StructType, StructField, IntegerType, StringType, DoubleType, DecimalType\n",
        "from pyspark.sql import functions as F\n",
        "import requests\n",
        "\n",
        "def get_data_from_db(database_url: str, db_properties: dict, table_name: str) -> DataFrame:\n",
        "  spark = SparkSession.builder.appName('Dataproc Transformation').getOrCreate()\n",
        "  sc = spark.sparkContext\n",
        "  return spark.read.jdbc(url=database_url, table=table_name, properties=db_properties)\n",
        "\n",
        "\n",
        "def write_to_bigquery(df: DataFrame, dataset: str, table: str):\n",
        "  df.write.format(\"bigquery\") \\\n",
        "    .option(\"writeMethod\", \"direct\") \\\n",
        "    .save(f'{dataset}.{table}')\n",
        "\n",
        "def cast_decimal_columns(df):\n",
        "    casted_df = df\n",
        "    for col_name in df.columns:\n",
        "        data_type = df.schema[col_name].dataType\n",
        "        if isinstance(data_type, DecimalType):\n",
        "            casted_df = casted_df.withColumn(col_name, F.col(col_name).cast('double'))\n",
        "    return casted_df\n",
        "\n",
        "\n",
        "def main():\n",
        "  database_url = \"jdbc:postgresql://172.21.160.3:5432/northwind\"\n",
        "  database_properties = {\n",
        "      \"user\": \"reader\",\n",
        "      \"password\": \"mycoolpass\",\n",
        "      \"driver\": \"org.postgresql.Driver\"\n",
        "  }\n",
        "\n",
        "  order_df = get_data_from_db(database_url, database_properties, 'orders')\n",
        "  order_details_df = get_data_from_db(database_url, database_properties, 'order_details')\n",
        "  products_df = get_data_from_db(database_url, database_properties, 'products')\n",
        "  customers_df = get_data_from_db(database_url, database_properties, 'customers')\n",
        "\n",
        "  order_df = cast_decimal_columns(order_df)\n",
        "  order_details_df = cast_decimal_columns(order_details_df)\n",
        "  products_df = cast_decimal_columns(products_df)\n",
        "  customers_df = cast_decimal_columns(customers_df)\n",
        "\n",
        "  order_df.show(2)\n",
        "  order_details_df.show(2)\n",
        "  products_df.show(2)\n",
        "  customers_df.show(2)\n",
        "\n",
        "  write_to_bigquery(order_df, 'northwind_raw', 'orders')\n",
        "  write_to_bigquery(order_details_df, 'northwind_raw', 'order_details')\n",
        "  write_to_bigquery(products_df, 'northwind_raw', 'products')\n",
        "  write_to_bigquery(customers_df, 'northwind_raw', 'customers')\n",
        "\n",
        "if __name__ == '__main__':\n",
        "  main()"
      ],
      "metadata": {
        "id": "FFKivd-5-qrr"
      },
      "execution_count": null,
      "outputs": []
    }
  ]
}