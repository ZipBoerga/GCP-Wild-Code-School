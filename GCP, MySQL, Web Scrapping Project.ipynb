{
  "nbformat": 4,
  "nbformat_minor": 0,
  "metadata": {
    "colab": {
      "provenance": []
    },
    "kernelspec": {
      "name": "python3",
      "display_name": "Python 3"
    },
    "language_info": {
      "name": "python"
    }
  },
  "cells": [
    {
      "cell_type": "code",
      "source": [
        "! pip install mysql.connector\n",
        "! pip install google.cloud\n",
        "! pip install google-cloud-storage\n",
        "# fo machine\n",
        "! pip install Pillow"
      ],
      "metadata": {
        "id": "q5LhdlvOtrq-"
      },
      "execution_count": null,
      "outputs": []
    },
    {
      "cell_type": "code",
      "execution_count": null,
      "metadata": {
        "id": "cdYn_KR-9Q3_"
      },
      "outputs": [],
      "source": [
        "import requests\n",
        "import re\n",
        "import json\n",
        "import mysql.connector\n",
        "from datetime import datetime\n",
        "from bs4 import BeautifulSoup\n",
        "from google.cloud import storage\n",
        "from google.oauth2 import service_account\n",
        "from PIL import Image\n",
        "from io import BytesIO"
      ]
    },
    {
      "cell_type": "code",
      "source": [
        "! curl ipinfo.io/ip"
      ],
      "metadata": {
        "id": "149bP1YieWIj"
      },
      "execution_count": null,
      "outputs": []
    },
    {
      "cell_type": "markdown",
      "source": [
        "## Toolbox"
      ],
      "metadata": {
        "id": "AsklEaHztTen"
      }
    },
    {
      "cell_type": "code",
      "source": [
        "def create_mysql_connection(user='root',\n",
        "    password=r'replace',\n",
        "    host='replace',\n",
        "    database='city_weather'):\n",
        "    connection_config = {\n",
        "        'user': user,\n",
        "        'password': password,\n",
        "        'host': host,\n",
        "        'database': database,\n",
        "    }\n",
        "\n",
        "    try:\n",
        "        connector = mysql.connector.connect(**connection_config)\n",
        "        return connector\n",
        "    except mysql.connector.Error as err:\n",
        "        print(f\"Error: {err}\")\n",
        "        return None\n",
        "\n",
        "def close_mysql_connection(connector, cursor):\n",
        "    cursor.close()\n",
        "    connector.close()"
      ],
      "metadata": {
        "id": "Mfe7b3dXtVbi"
      },
      "execution_count": null,
      "outputs": []
    },
    {
      "cell_type": "markdown",
      "source": [
        "## Fetching cities data\n",
        "No images, no weather, only fetch city and store in DB. This is run manually, not by cron"
      ],
      "metadata": {
        "id": "e_n2LDQ2YXdq"
      }
    },
    {
      "cell_type": "markdown",
      "source": [
        "### Fetching"
      ],
      "metadata": {
        "id": "cUPQbBHhYZQx"
      }
    },
    {
      "cell_type": "code",
      "source": [
        "TERMINATING_REGEX = 'No Data Available'\n",
        "\n",
        "def handle_city_soup(city_tr_soup) -> dict:\n",
        "  city_tds = city_tr_soup.find_all('td')\n",
        "  id = int(city_tds[0].text)\n",
        "  name = city_tds[1].text\n",
        "  latitude = city_tds[3].text\n",
        "  longtitude = city_tds[4].text\n",
        "  return {\n",
        "      'id': id,\n",
        "      'name': name,\n",
        "      'lat': float(latitude),\n",
        "      'lon': float(longtitude)\n",
        "  }\n",
        "\n",
        "def handle_cities_page():\n",
        "  city_base_url = 'https://geokeo.com/database/city/it/{}'\n",
        "\n",
        "  page_index = 1\n",
        "\n",
        "  cities_data: list[dict] = []\n",
        "\n",
        "  while True:\n",
        "    print(f'Page number {page_index}')\n",
        "    url = city_base_url.format(page_index)\n",
        "    response = requests.get(url, headers={'User-Agent': 'Mozilla/5.0 (Macintosh; Intel Mac OS X 10_10_1)'}, verify=False)\n",
        "\n",
        "    if response.status_code != 200:\n",
        "      exit('Invalid response code while fetching cities')\n",
        "\n",
        "    soup = BeautifulSoup(response.content, 'html.parser')\n",
        "\n",
        "    if TERMINATING_REGEX in soup.text:\n",
        "      break\n",
        "\n",
        "    city_list = soup.find_all('tr')\n",
        "    city_list.pop(0)\n",
        "    for city in city_list:\n",
        "      city_data = handle_city_soup(city)\n",
        "      cities_data.append(city_data)\n",
        "\n",
        "    page_index += 1\n",
        "\n",
        "  return cities_data\n",
        "\n",
        "cities_data = handle_cities_page()"
      ],
      "metadata": {
        "id": "Rm6SWWYt_NE7"
      },
      "execution_count": null,
      "outputs": []
    },
    {
      "cell_type": "code",
      "source": [
        "cities_data"
      ],
      "metadata": {
        "id": "0GkjvLX1baQh"
      },
      "execution_count": null,
      "outputs": []
    },
    {
      "cell_type": "markdown",
      "source": [
        "### Writing cities to DB"
      ],
      "metadata": {
        "id": "zwnt7ZPEYgLS"
      }
    },
    {
      "cell_type": "code",
      "source": [
        "connector = create_mysql_connection()\n",
        "cursor = connector.cursor()\n",
        "\n",
        "\n",
        "placeholders = ', '.join(['%s'] * len(cities_data[0]))\n",
        "columns = ', '.join(cities_data[0].keys())\n",
        "table_name = 'city'\n",
        "\n",
        "query = f'INSERT INTO {table_name} ({columns}) VALUES ({placeholders})'\n",
        "\n",
        "for city_data in cities_data:\n",
        "    cursor.execute(query, tuple(city_data.values()))\n",
        "\n",
        "connector.commit()\n",
        "close_mysql_connection(connector, cursor)"
      ],
      "metadata": {
        "id": "V_B1NzKPcd6v"
      },
      "execution_count": null,
      "outputs": []
    },
    {
      "cell_type": "markdown",
      "source": [
        "## Images of cities\n",
        "Running manually, as it has a call limit on API provider side"
      ],
      "metadata": {
        "id": "e8Kl9gqyYkSL"
      }
    },
    {
      "cell_type": "markdown",
      "source": [
        "### Get links from Unsplash"
      ],
      "metadata": {
        "id": "ckNIEx-xs6qT"
      }
    },
    {
      "cell_type": "code",
      "source": [
        "def get_city_photo_link(city: str) -> str:\n",
        "  url = 'https://api.unsplash.com/search/photos'\n",
        "  response = requests.get(url, params={'page': 1, 'query': city}, headers={'Authorization': 'Client-ID replace'})\n",
        "\n",
        "  if response.status_code != 200:\n",
        "    return\n",
        "  picture_data = json.loads(response.content)\n",
        "  return picture_data['results'][0]['urls']['raw']"
      ],
      "metadata": {
        "id": "O2bsaCoinrhm"
      },
      "execution_count": null,
      "outputs": []
    },
    {
      "cell_type": "code",
      "source": [
        "connector = create_mysql_connection()\n",
        "cursor = connector.cursor()\n",
        "\n",
        "cursor.execute(\"SELECT * FROM city WHERE link_api IS NULL;\")\n",
        "result = cursor.fetchall()"
      ],
      "metadata": {
        "colab": {
          "base_uri": "https://localhost:8080/"
        },
        "id": "BW138hZ7iZu4",
        "outputId": "26d5d051-df24-41da-a2f4-8d234bb48801"
      },
      "execution_count": null,
      "outputs": [
        {
          "output_type": "execute_result",
          "data": {
            "text/plain": [
              "1"
            ]
          },
          "metadata": {},
          "execution_count": 165
        }
      ]
    },
    {
      "cell_type": "code",
      "source": [
        "empty_pic_city_data = result\n",
        "for city in empty_pic_city_data:\n",
        "  photo_link = get_city_photo_link(city[1])\n",
        "  print(len(photo_link))\n",
        "  print(photo_link)\n",
        "\n",
        "  if photo_link is None:\n",
        "    break\n",
        "\n",
        "  query = f\"UPDATE city SET link_api = %s WHERE id = %s;\"\n",
        "  cursor.execute(query, (photo_link, city[0]))\n",
        "  connector.commit()\n",
        "\n",
        "close_mysql_connection(connector, cursor)"
      ],
      "metadata": {
        "id": "0Emj4Jh2lTo5"
      },
      "execution_count": null,
      "outputs": []
    },
    {
      "cell_type": "markdown",
      "source": [
        "### Upload to bucket"
      ],
      "metadata": {
        "id": "DnlKMctys-ms"
      }
    },
    {
      "cell_type": "code",
      "source": [
        "connector = create_mysql_connection()\n",
        "cursor = connector.cursor()\n",
        "\n",
        "cursor.execute(\"SELECT * FROM city;\")\n",
        "result = cursor.fetchall()\n",
        "cities = result"
      ],
      "metadata": {
        "id": "qeZ3QOLDtAxB"
      },
      "execution_count": null,
      "outputs": []
    },
    {
      "cell_type": "markdown",
      "source": [
        "#### Access to storage client - bucket"
      ],
      "metadata": {
        "id": "9wjQXpaa14XS"
      }
    },
    {
      "cell_type": "code",
      "source": [
        "def download_image(url: str):\n",
        "  response = requests.get(url)\n",
        "  img = Image.open(BytesIO(response.content))\n",
        "  image_data = BytesIO()\n",
        "  img.save(image_data, format='JPEG')\n",
        "  image_data.seek(0)\n",
        "\n",
        "  return image_data\n",
        "\n",
        "def upload_image_to_bucket(city_object: tuple, bucket) -> str:\n",
        "  img = download_image(city_object[4])\n",
        "  file_name = f'{city_object[0]}.jpg'\n",
        "  blob = bucket.blob(file_name)\n",
        "  blob.upload_from_file(img, content_type='image/jpeg')\n",
        "  return f'https://storage.googleapis.com/{bucket_name}/{file_name}'"
      ],
      "metadata": {
        "id": "rWI8W9SJyOtI"
      },
      "execution_count": null,
      "outputs": []
    },
    {
      "cell_type": "code",
      "source": [
        "key_path = 'keys/service_acc_key.json'\n",
        "bucket_name = 'mariia_city_weather_project'\n",
        "credentials = service_account.Credentials.from_service_account_file(key_path)\n",
        "storage_client = storage.Client(credentials=credentials)\n",
        "bucket = storage_client.bucket(bucket_name)"
      ],
      "metadata": {
        "id": "XLd-weSI2Ma8"
      },
      "execution_count": null,
      "outputs": []
    },
    {
      "cell_type": "code",
      "source": [
        "city_img_links = {}\n",
        "for city in cities:\n",
        "  city_img_links[city[0]] = upload_image_to_bucket(city, bucket)"
      ],
      "metadata": {
        "id": "xgI6TEnN3v4I"
      },
      "execution_count": null,
      "outputs": []
    },
    {
      "cell_type": "code",
      "source": [
        "city_img_links"
      ],
      "metadata": {
        "id": "kv0NRbdq6-tB"
      },
      "execution_count": null,
      "outputs": []
    },
    {
      "cell_type": "code",
      "source": [
        "for key, value in city_img_links.items():\n",
        "  query = 'UPDATE city SET link_bucket = %s WHERE id = %s'\n",
        "  cursor.execute(query, (value, key))\n",
        "connector.commit()\n",
        "close_mysql_connection(connector, cursor)"
      ],
      "metadata": {
        "id": "N1NELYbv7cdg"
      },
      "execution_count": null,
      "outputs": []
    },
    {
      "cell_type": "markdown",
      "source": [
        "## Weather, scheduled by cron"
      ],
      "metadata": {
        "id": "3wt-sYIYYi_e"
      }
    },
    {
      "cell_type": "markdown",
      "source": [
        "Cron line\n",
        "\n",
        "`0 * * * * /usr/bin/python3 /home/myusername/fetch_weather.py >> /home/myusername/last_run.txt`"
      ],
      "metadata": {
        "id": "utFSyO3i_MCd"
      }
    },
    {
      "cell_type": "code",
      "source": [
        "def get_city_weather(lat: float, lon: float) -> dict:\n",
        "  url = 'https://api.openweathermap.org/data/2.5/weather'\n",
        "\n",
        "  params = {\n",
        "    'lat': lat,\n",
        "    'lon': lon,\n",
        "    'appid': 'replace',\n",
        "    'units': 'metric'\n",
        "  }\n",
        "\n",
        "  response = requests.get(url, params=params)\n",
        "  weather_data = json.loads(response.content)\n",
        "\n",
        "  return {\n",
        "    'weather_type':  weather_data['weather'][0]['main'],\n",
        "    'temp': weather_data['main']['temp'],\n",
        "    'temp_feels': weather_data['main']['feels_like'],\n",
        "    'max_temp': weather_data['main']['temp_max'],\n",
        "    'min_temp': weather_data['main']['temp_min'],\n",
        "    'humidity': weather_data['main']['humidity'],\n",
        "    'visibility': weather_data['visibility'],\n",
        "    'dt': datetime.utcfromtimestamp(weather_data['dt'])\n",
        "  }"
      ],
      "metadata": {
        "id": "YQd8ujpFMwLf"
      },
      "execution_count": null,
      "outputs": []
    },
    {
      "cell_type": "code",
      "source": [
        "import mysql.connector\n",
        "connector = mysql.connector.connect(\n",
        "    user='root',\n",
        "    password=r'.[\\yPf4iM%tFC\\NB',\n",
        "    host='34.88.157.55',\n",
        "    database='city_weather'\n",
        ")\n",
        "\n",
        "cursor = connector.cursor()\n",
        "cursor.execute(\"SELECT * FROM city;\")\n",
        "cities_data = cursor.fetchall()"
      ],
      "metadata": {
        "id": "Tn3uO0nA1OFx"
      },
      "execution_count": null,
      "outputs": []
    },
    {
      "cell_type": "code",
      "source": [
        "city_weather_data: list[dict] = []\n",
        "\n",
        "for city in cities_data:\n",
        "  city_weather = get_city_weather(city[2], city[3])\n",
        "  city_weather_data.append({'city_id': city[0], **city_weather})"
      ],
      "metadata": {
        "id": "VbDei98ONarj"
      },
      "execution_count": null,
      "outputs": []
    },
    {
      "cell_type": "code",
      "source": [
        "city_weather_data[0]"
      ],
      "metadata": {
        "colab": {
          "base_uri": "https://localhost:8080/"
        },
        "id": "KoliBr50OueG",
        "outputId": "196378b7-b2a4-480a-c6e8-7d4f7211cb8c"
      },
      "execution_count": null,
      "outputs": [
        {
          "output_type": "execute_result",
          "data": {
            "text/plain": [
              "{'city_id': 1,\n",
              " 'weather_type': 'Clouds',\n",
              " 'temp': 16.23,\n",
              " 'temp_feels': 15.61,\n",
              " 'max_temp': 16.23,\n",
              " 'min_temp': 16.23,\n",
              " 'humidity': 65,\n",
              " 'visibility': 10000,\n",
              " 'dt': datetime.datetime(2024, 1, 17, 14, 33, 3)}"
            ]
          },
          "metadata": {},
          "execution_count": 192
        }
      ]
    },
    {
      "cell_type": "code",
      "source": [
        "connector = mysql.connector.connect(\n",
        "    user='root',\n",
        "    password=r'.[\\yPf4iM%tFC\\NB',\n",
        "    host='34.88.157.55',\n",
        "    database='city_weather'\n",
        ")\n",
        "\n",
        "cursor = connector.cursor()\n",
        "\n",
        "\n",
        "placeholders = ', '.join(['%s'] * 9)\n",
        "columns = ', '.join(city_weather_data[0].keys())\n",
        "table_name = 'weather'\n",
        "\n",
        "query = f'INSERT INTO {table_name} ({columns}) VALUES ({placeholders})'\n",
        "\n",
        "for weather in city_weather_data:\n",
        "    cursor.execute(query, tuple(weather.values()))\n",
        "\n",
        "connector.commit()\n",
        "\n",
        "\n",
        "cursor.close()\n",
        "connector.close()\n",
        "print('All good')"
      ],
      "metadata": {
        "id": "duUV1YPzyLEL"
      },
      "execution_count": null,
      "outputs": []
    }
  ]
}